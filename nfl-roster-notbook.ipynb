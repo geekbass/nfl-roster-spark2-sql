{
 "cells": [
  {
   "cell_type": "code",
   "execution_count": 2,
   "metadata": {
    "collapsed": false
   },
   "outputs": [
    {
     "name": "stdout",
     "output_type": "stream",
     "text": [
      "+------+-----------------+--------+---+------+------+-----+--------------------+-------+--------------+----+--------+\n",
      "|jersey|             name|position|age|height|weight|years|             college|   team|position_group|side|   level|\n",
      "+------+-----------------+--------+---+------+------+-----+--------------------+-------+--------------+----+--------+\n",
      "|    53|     A.Q. Shipley|       C| 30|    73|   307|    5|          Penn State|Arizona|            OL| OFF| 5-8 Yrs|\n",
      "|    77|       Evan Boehm|       C| 22|    74|   309|    0|            Missouri|Arizona|            OL| OFF|  Rookie|\n",
      "|    65|     Taylor Boggs|       C| 29|    75|   302|    4|      Humboldt State|Arizona|            OL| OFF| 1-4 Yrs|\n",
      "|    28|    Justin Bethel|      CB| 26|    72|   200|    5|Presbyterian College|Arizona|            DB| DEF| 5-8 Yrs|\n",
      "|     1|    Harlan Miller|      CB| 22|    72|   182|    0|Southeastern Loui...|Arizona|            DB| DEF|  Rookie|\n",
      "|    35|    Cariel Brooks|      CB| 25|    69|   200|    2|         Adams State|Arizona|            DB| DEF| 1-4 Yrs|\n",
      "|    43|     Mike Jenkins|      CB| 31|    70|   197|    9|       South Florida|Arizona|            DB| DEF|9-12 Yrs|\n",
      "|    25|   Jerraud Powers|      CB| 29|    70|   187|    8|              Auburn|Arizona|            DB| DEF| 5-8 Yrs|\n",
      "|    46|      Asa Jackson|      CB| 26|    70|   183|    4|            Cal Poly|Arizona|            DB| DEF| 1-4 Yrs|\n",
      "|    39|     Shaun Prater|      CB| 26|    70|   190|    4|                Iowa|Arizona|            DB| DEF| 1-4 Yrs|\n",
      "|     0|    Ronald Zamort|      CB| 24|    70|   174|    0|    Western Michigan|Arizona|            DB| DEF|  Rookie|\n",
      "|    21| Brandon Williams|      CB| 23|    71|   197|    0|           Texas A&M|Arizona|            DB| DEF|  Rookie|\n",
      "|     0|       Elie Bouka|      CB|  0|    73|   205|    0|                   0|Arizona|            DB| DEF|  Rookie|\n",
      "|    21| Patrick Peterson|      CB| 26|    73|   219|    6|                 LSU|Arizona|            DB| DEF| 5-8 Yrs|\n",
      "|     0| Trevon Hartfield|      CB|  0|    74|   195|    0|Southwestern Okla...|Arizona|            DB| DEF|  Rookie|\n",
      "|    55|   Chandler Jones|      DE| 26|    77|   265|    5|            Syracuse|Arizona|   Front Seven| DEF| 5-8 Yrs|\n",
      "|    58|Tristan Okpalaugo|      DE| 26|    78|   250|    0|        Fresno State|Arizona|   Front Seven| DEF|  Rookie|\n",
      "|    92|   Frostee Rucker|      DT| 32|    75|   280|   11|                 USC|Arizona|   Front Seven| DEF|9-12 Yrs|\n",
      "|    98|     Corey Peters|      DT| 28|    75|   305|    7|            Kentucky|Arizona|   Front Seven| DEF| 5-8 Yrs|\n",
      "|    71|       Red Bryant|      DT| 32|    76|   323|    9|           Texas A&M|Arizona|   Front Seven| DEF|9-12 Yrs|\n",
      "+------+-----------------+--------+---+------+------+-----+--------------------+-------+--------------+----+--------+\n",
      "only showing top 20 rows\n",
      "\n"
     ]
    }
   ],
   "source": [
    "# Create a table from the 2016 NFL Roster\n",
    "df = spark.read.format('com.databricks.spark.csv').options(header='true', inferschema='true').load('nfl-players-2016.csv')\n",
    "df.registerTempTable(\"players\")\n",
    "\n",
    "# Display the table Schema\n",
    "df.printSchema\n",
    "\n",
    "# Show what the table Looks like. Only 20 Lines shown here.\n",
    "sqlDF = spark.sql(\"SELECT * FROM players\")\n",
    "sqlDF.show()"
   ]
  },
  {
   "cell_type": "code",
   "execution_count": 3,
   "metadata": {
    "collapsed": false
   },
   "outputs": [
    {
     "name": "stdout",
     "output_type": "stream",
     "text": [
      "+------+--------------------+--------+---+------+------+-----+------------------+---------------+--------------+----+--------+\n",
      "|jersey|                name|position|age|height|weight|years|           college|           team|position_group|side|   level|\n",
      "+------+--------------------+--------+---+------+------+-----+------------------+---------------+--------------+----+--------+\n",
      "|     3|       Carson Palmer|      QB| 36|    77|   235|   14|               USC|        Arizona|            QB| OFF| 13+ Yrs|\n",
      "|     3|         Matt Bryant|      PK| 41|    69|   203|   15|            Baylor|        Atlanta|            ST|  ST| 13+ Yrs|\n",
      "|    89|     Steve Smith Sr.|      WR| 37|    69|   195|   16|              Utah|      Baltimore|            WR| OFF| 13+ Yrs|\n",
      "|    13|         Josh McCown|      QB| 37|    76|   218|   14| Sam Houston State|      Cleveland|            QB| OFF| 13+ Yrs|\n",
      "|     9|           Tony Romo|      QB| 36|    74|   230|   14|  Eastern Illinois|         Dallas|            QB| OFF| 13+ Yrs|\n",
      "|    56|      Julius Peppers|      LB| 36|    79|   287|   15|    North Carolina|      Green Bay|   Front Seven| DEF| 13+ Yrs|\n",
      "|     9|       Shane Lechler|       P| 39|    74|   237|   17|         Texas A&M|        Houston|            ST|  ST| 13+ Yrs|\n",
      "|     4|      Adam Vinatieri|      PK| 43|    72|   206|   21|South Dakota State|   Indianapolis|            ST|  ST| 13+ Yrs|\n",
      "|    92|         John Denney|      LS| 37|    77|   252|   12|               BYU|          Miami|            ST|  ST|9-12 Yrs|\n",
      "|    23|      Terence Newman|      CB| 37|    70|   197|   14|      Kansas State|      Minnesota|            DB| DEF| 13+ Yrs|\n",
      "|    13|          Shaun Hill|      QB| 36|    75|   230|   15|          Maryland|      Minnesota|            QB| OFF| 13+ Yrs|\n",
      "|    12|           Tom Brady|      QB| 38|    76|   225|   17|          Michigan|    New England|            QB| OFF| 13+ Yrs|\n",
      "|     9|          Drew Brees|      QB| 37|    72|   209|   16|            Purdue|    New Orleans|            QB| OFF| 13+ Yrs|\n",
      "|     3|          Josh Brown|      PK| 37|    72|   202|   14|          Nebraska|New York Giants|            ST|  ST| 13+ Yrs|\n",
      "|    11|Sebastian Janikowski|      PK| 38|    73|   265|   17|     Florida State|        Oakland|            ST|  ST| 13+ Yrs|\n",
      "|    46|        Jon Dorenbos|      LS| 36|    72|   250|   14|              UTEP|   Philadelphia|            ST|  ST| 13+ Yrs|\n",
      "|     8|        Donnie Jones|       P| 36|    74|   221|   13|               LSU|   Philadelphia|            ST|  ST| 13+ Yrs|\n",
      "|    92|      James Harrison|      LB| 38|    72|   242|   14|        Kent State|     Pittsburgh|   Front Seven| DEF| 13+ Yrs|\n",
      "|    85|       Antonio Gates|      TE| 36|    76|   255|   14|        Kent State|      San Diego|            TE| OFF| 13+ Yrs|\n",
      "|     9|         Phil Dawson|      PK| 41|    71|   200|   18|             Texas|  San Francisco|            ST|  ST| 13+ Yrs|\n",
      "+------+--------------------+--------+---+------+------+-----+------------------+---------------+--------------+----+--------+\n",
      "\n"
     ]
    }
   ],
   "source": [
    "# Show 20 players over the age of 35\n",
    "ageDF = spark.sql(\"SELECT * FROM players WHERE age > 35\")\n",
    "ageDF.show()"
   ]
  },
  {
   "cell_type": "code",
   "execution_count": 4,
   "metadata": {
    "collapsed": false
   },
   "outputs": [
    {
     "data": {
      "text/plain": [
       "49"
      ]
     },
     "execution_count": 4,
     "metadata": {},
     "output_type": "execute_result"
    }
   ],
   "source": [
    "# Count the number of players that went to Ohio State\n",
    "osuDF = spark.sql(\"SELECT * FROM players WHERE college = 'Ohio State'\")\n",
    "osuDF.count()"
   ]
  },
  {
   "cell_type": "code",
   "execution_count": 5,
   "metadata": {
    "collapsed": false,
    "scrolled": true
   },
   "outputs": [
    {
     "name": "stdout",
     "output_type": "stream",
     "text": [
      "+------+-----------------+--------+---+------+------+-----+----------+-------------+--------------+----+--------+\n",
      "|jersey|             name|position|age|height|weight|years|   college|         team|position_group|side|   level|\n",
      "+------+-----------------+--------+---+------+------+-----+----------+-------------+--------------+----+--------+\n",
      "|     2|      Mike Nugent|      PK| 34|    70|   190|   12|Ohio State|   Cincinnati|            ST|  ST|9-12 Yrs|\n",
      "|    74|     Nick Mangold|       C| 32|    76|   307|   11|Ohio State|New York Jets|            OL| OFF|9-12 Yrs|\n",
      "|    19|     Ted Ginn Jr.|      WR| 31|    71|   185|   10|Ohio State|     Carolina|            WR| OFF|9-12 Yrs|\n",
      "|    27|Donald Washington|      SS| 29|    73|   197|    3|Ohio State|  Kansas City|            DB| DEF| 1-4 Yrs|\n",
      "|    55|James Laurinaitis|      LB| 29|    74|   248|    8|Ohio State|  New Orleans|   Front Seven| DEF| 5-8 Yrs|\n",
      "|    76|       Alex Boone|       G| 29|    80|   300|    7|Ohio State|    Minnesota|            OL| OFF| 5-8 Yrs|\n",
      "|    44|    Jake McQuaide|       C| 28|    74|   244|    6|Ohio State|  Los Angeles|            OL| OFF| 5-8 Yrs|\n",
      "|    27|  Malcolm Jenkins|      FS| 28|    72|   204|    8|Ohio State| Philadelphia|            DB| DEF| 5-8 Yrs|\n",
      "|    20|     Kurt Coleman|      DB| 28|    71|   200|    7|Ohio State|     Carolina|            DB| DEF| 5-8 Yrs|\n",
      "|    38|    Daniel Herron|      RB| 27|    70|   212|    4|Ohio State|      Buffalo|      Tailback| OFF| 1-4 Yrs|\n",
      "|    43|       Nate Ebner|      DB| 27|    72|   220|    5|Ohio State|  New England|            DB| DEF| 5-8 Yrs|\n",
      "|     0|    Chimdi Chekwa|      CB| 27|    72|   190|    4|Ohio State|        Miami|            DB| DEF| 1-4 Yrs|\n",
      "|    11|   Terrelle Pryor|      WR| 27|    76|   233|    4|Ohio State|    Cleveland|            WR| OFF| 1-4 Yrs|\n",
      "|    97|  Cameron Heyward|      DE| 27|    77|   295|    6|Ohio State|   Pittsburgh|   Front Seven| DEF| 5-8 Yrs|\n",
      "|    15|     DeVier Posey|      WR| 26|    73|   210|    3|Ohio State|       Denver|            WR| OFF| 1-4 Yrs|\n",
      "|    86| Jake Stoneburner|      TE| 26|    75|   250|    3|Ohio State|        Miami|            TE| OFF| 1-4 Yrs|\n",
      "|    51|       John Simon|      LB| 25|    73|   252|    4|Ohio State|      Houston|   Front Seven| DEF| 1-4 Yrs|\n",
      "|    69|      Reid Fragel|      OT| 25|    80|   308|    2|Ohio State|  Kansas City|            OL| OFF| 1-4 Yrs|\n",
      "|    29|     Bradley Roby|      CB| 24|    71|   194|    3|Ohio State|       Denver|            DB| DEF| 1-4 Yrs|\n",
      "|    75|     Jack Mewhort|      OG| 24|    78|   312|    3|Ohio State| Indianapolis|            OL| OFF| 1-4 Yrs|\n",
      "+------+-----------------+--------+---+------+------+-----+----------+-------------+--------------+----+--------+\n",
      "only showing top 20 rows\n",
      "\n"
     ]
    }
   ],
   "source": [
    "# Show the 20 oldest players from Ohio State in order from oldest to youngest\n",
    "osuDF.sort(\"age\", ascending=False).show()"
   ]
  },
  {
   "cell_type": "code",
   "execution_count": 8,
   "metadata": {
    "collapsed": false
   },
   "outputs": [
    {
     "name": "stdout",
     "output_type": "stream",
     "text": [
      "+------+--------------------+--------+---+------+------+-----+--------------------+------------+--------------+----+--------+\n",
      "|jersey|                name|position|age|height|weight|years|             college|        team|position_group|side|   level|\n",
      "+------+--------------------+--------+---+------+------+-----+--------------------+------------+--------------+----+--------+\n",
      "|    74|         Kevin Bowen|      OT| 23|    81|   330|    0|        East Central|  Washington|            OL| OFF|  Rookie|\n",
      "|    77|     Cornelius Lucas|      OT| 25|    81|   328|    3|        Kansas State|     Detroit|            OL| OFF| 1-4 Yrs|\n",
      "|    69|       Brian Mihalik|      OT| 23|    81|   302|    1|      Boston College|  Pittsburgh|            OL| OFF| 1-4 Yrs|\n",
      "|    77|         King Dunlap|      OT| 30|    81|   330|    9|              Auburn|   San Diego|            OL| OFF|9-12 Yrs|\n",
      "|    78|Alejandro Villanueva|      OT| 27|    81|   320|    2|                Army|  Pittsburgh|            OL| OFF| 1-4 Yrs|\n",
      "|    69|        Demar Dotson|      OT| 30|    81|   315|    8|Southern Mississippi|   Tampa Bay|            OL| OFF| 5-8 Yrs|\n",
      "|    74|         Zach Sterup|      OL| 24|    80|   315|    0|            Nebraska| Kansas City|            OL| OFF|  Rookie|\n",
      "|    69|         Reid Fragel|      OT| 25|    80|   308|    2|          Ohio State| Kansas City|            OL| OFF| 1-4 Yrs|\n",
      "|     0|           Sam Young|      OT| 29|    80|   320|    7|          Notre Dame|       Miami|            OL| OFF| 5-8 Yrs|\n",
      "|    79|           Ty Nsekhe|      OT| 30|    80|   325|    2|         Texas State|  Washington|            OL| OFF| 1-4 Yrs|\n",
      "|    68|         Ulrick John|      OL| 24|    80|   300|    3|       Georgia State|       Miami|            OL| OFF| 1-4 Yrs|\n",
      "|    67|        Dennis Kelly|      OG| 26|    80|   321|    5|              Purdue|Philadelphia|            OL| OFF| 5-8 Yrs|\n",
      "|     0|      Luke Marquardt|      OT| 26|    80|   315|    1|       Azusa Pacific|     Detroit|            OL| OFF| 1-4 Yrs|\n",
      "|    68|      Jared Veldheer|      OT| 29|    80|   321|    7|           Hillsdale|     Arizona|            OL| OFF| 5-8 Yrs|\n",
      "|    80|      Levine Toilolo|      TE| 24|    80|   265|    4|            Stanford|     Atlanta|            TE| OFF| 1-4 Yrs|\n",
      "|    87|         Tim Semisch|      TE| 24|    80|   275|    1|   Northern Illinois|   San Diego|            TE| OFF| 1-4 Yrs|\n",
      "|    48|         John Peters|      TE| 24|    80|   230|    0|    Mount St. Joseph|  Cincinnati|            TE| OFF|  Rookie|\n",
      "|    63|      David Foucault|      OT| 27|    80|   320|    2|                null|    Carolina|            OL| OFF| 1-4 Yrs|\n",
      "|    99|         Margus Hunt|      DE| 29|    80|   290|    4|                 SMU|  Cincinnati|   Front Seven| DEF| 1-4 Yrs|\n",
      "|     2|        Rico Gathers|      TE| 22|    80|   275|    0|              Baylor|      Dallas|            TE| OFF|  Rookie|\n",
      "+------+--------------------+--------+---+------+------+-----+--------------------+------------+--------------+----+--------+\n",
      "only showing top 20 rows\n",
      "\n",
      "+------+-----------------+--------+---+------+------+-----+----------------+---------------+--------------+----+--------+\n",
      "|jersey|             name|position|age|height|weight|years|         college|           team|position_group|side|   level|\n",
      "+------+-----------------+--------+---+------+------+-----+----------------+---------------+--------------+----+--------+\n",
      "|    90|      T.J. Barnes|      DT| 26|    79|   364|    3|    Georgia Tech|        Buffalo|   Front Seven| DEF| 1-4 Yrs|\n",
      "|    92|     John Jenkins|      DT| 27|    75|   359|    4|         Georgia|    New Orleans|   Front Seven| DEF| 1-4 Yrs|\n",
      "|    77|      Trent Brown|      OL| 23|    80|   355|    2|         Florida|  San Francisco|            OL| OFF| 1-4 Yrs|\n",
      "|    98|Terrance Knighton|      DT| 30|    75|   354|    8|          Temple|    New England|   Front Seven| DEF| 5-8 Yrs|\n",
      "|    62| Daniel McCullers|      DT| 23|    79|   352|    3|       Tennessee|     Pittsburgh|   Front Seven| DEF| 1-4 Yrs|\n",
      "|    97|      Alan Branch|      DL| 31|    78|   350|   10|        Michigan|    New England|   Front Seven| DEF|9-12 Yrs|\n",
      "|     0|   Damon Harrison|      DL| 27|    76|   350|    5|    William Penn|New York Giants|   Front Seven| DEF| 5-8 Yrs|\n",
      "|    79|   Montori Hughes|      DT| 25|    76|   350|    4|Tennessee-Martin|New York Giants|   Front Seven| DEF| 1-4 Yrs|\n",
      "|    65|   Alameda Ta'amu|      DT| 25|    75|   348|    3|      Washington|    Kansas City|   Front Seven| DEF| 1-4 Yrs|\n",
      "|    72|    Kenrick Ellis|      DT| 28|    76|   346|    6|         Hampton|      Minnesota|   Front Seven| DEF| 5-8 Yrs|\n",
      "|    92|      Dontari Poe|      DL| 25|    75|   346|    5|         Memphis|    Kansas City|   Front Seven| DEF| 5-8 Yrs|\n",
      "|    69|      Erle Ladson|      OL| 24|    78|   346|    1|        Delaware|      Cleveland|            OL| OFF| 1-4 Yrs|\n",
      "|    96|      Paul Soliai|      DT| 32|    76|   345|   10|            Utah|       Carolina|   Front Seven| DEF|9-12 Yrs|\n",
      "|    77|      Cordy Glenn|      OT| 26|    78|   345|    5|         Georgia|        Buffalo|            OL| OFF| 5-8 Yrs|\n",
      "|    92|     Haloti Ngata|      DT| 32|    76|   345|   11|          Oregon|        Detroit|   Front Seven| DEF|9-12 Yrs|\n",
      "|    71|    Phil Loadholt|      OT| 30|    80|   345|    8|        Oklahoma|      Minnesota|            OL| OFF| 5-8 Yrs|\n",
      "|    74|       Mitch Bell|      OL| 23|    75|   345|    1|  Louisiana Tech|        Oakland|            OL| OFF| 1-4 Yrs|\n",
      "|    64|   Adrian Bellard|      OT| 21|    77|   344|    0|     Texas State|        Chicago|            OL| OFF|  Rookie|\n",
      "|    68| Cyril Richardson|       G| 25|    77|   343|    2|          Baylor|        Buffalo|            OL| OFF| 1-4 Yrs|\n",
      "|    79|      Chris Scott|      OG| 28|    76|   340|    5|       Tennessee|       Carolina|            OL| OFF| 5-8 Yrs|\n",
      "+------+-----------------+--------+---+------+------+-----+----------------+---------------+--------------+----+--------+\n",
      "only showing top 20 rows\n",
      "\n"
     ]
    }
   ],
   "source": [
    "# Top 20 Biggest Players by weight and height\n",
    "playersDF = spark.sql(\"SELECT * FROM players\")\n",
    "playersDF.sort(\"height\", ascending=False).show()\n",
    "playersDF.sort(\"weight\", ascending=False).show()"
   ]
  },
  {
   "cell_type": "code",
   "execution_count": null,
   "metadata": {
    "collapsed": true
   },
   "outputs": [],
   "source": []
  }
 ],
 "metadata": {
  "kernelspec": {
   "display_name": "Python 3",
   "language": "python",
   "name": "python3"
  },
  "language_info": {
   "codemirror_mode": {
    "name": "ipython",
    "version": 3
   },
   "file_extension": ".py",
   "mimetype": "text/x-python",
   "name": "python",
   "nbconvert_exporter": "python",
   "pygments_lexer": "ipython3",
   "version": "3.5.2"
  }
 },
 "nbformat": 4,
 "nbformat_minor": 2
}
